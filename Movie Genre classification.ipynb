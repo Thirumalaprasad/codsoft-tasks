{
 "cells": [
  {
   "cell_type": "code",
   "execution_count": 1,
   "id": "60505f68-32c2-44f8-b08e-ff2042379b70",
   "metadata": {},
   "outputs": [],
   "source": [
    "import pandas as pd\n",
    "from sklearn.feature_extraction.text import TfidfVectorizer\n",
    "from sklearn.model_selection import train_test_split\n",
    "from sklearn.naive_bayes import MultinomialNB\n",
    "from sklearn.linear_model import LogisticRegression\n",
    "from sklearn.svm import SVC\n",
    "from sklearn.metrics import classification_report"
   ]
  },
  {
   "cell_type": "code",
   "execution_count": 4,
   "id": "95794a58-9aef-4977-bb4d-c83a47574c5c",
   "metadata": {},
   "outputs": [],
   "source": [
    "training_data_file = \"train_data.csv\"\n",
    "validation_data_file = \"test_data_solution.csv\"\n",
    "test_data_file = \"test_data.csv\""
   ]
  },
  {
   "cell_type": "code",
   "execution_count": 5,
   "id": "f0dbb472-58fb-45df-a85d-77f63289306d",
   "metadata": {},
   "outputs": [
    {
     "name": "stderr",
     "output_type": "stream",
     "text": [
      "C:\\Users\\saida\\AppData\\Local\\Temp\\ipykernel_13956\\3725745173.py:1: ParserWarning: Falling back to the 'python' engine because the 'c' engine does not support regex separators (separators > 1 char and different from '\\s+' are interpreted as regex); you can avoid this warning by specifying engine='python'.\n",
      "  train_df = pd.read_csv(training_data_file, delimiter=\" ::: \", names=[\"index\", \"movie_name\", \"genre\", \"description\"])\n",
      "C:\\Users\\saida\\AppData\\Local\\Temp\\ipykernel_13956\\3725745173.py:2: ParserWarning: Falling back to the 'python' engine because the 'c' engine does not support regex separators (separators > 1 char and different from '\\s+' are interpreted as regex); you can avoid this warning by specifying engine='python'.\n",
      "  validation_df = pd.read_csv(validation_data_file, delimiter=\" ::: \", names=[\"index\", \"movie_name\", \"genre\", \"description\"])\n",
      "C:\\Users\\saida\\AppData\\Local\\Temp\\ipykernel_13956\\3725745173.py:3: ParserWarning: Falling back to the 'python' engine because the 'c' engine does not support regex separators (separators > 1 char and different from '\\s+' are interpreted as regex); you can avoid this warning by specifying engine='python'.\n",
      "  test_df = pd.read_csv(test_data_file, delimiter=\" ::: \", names=[\"index\", \"movie_name\", \"description\"])\n"
     ]
    }
   ],
   "source": [
    "train_df = pd.read_csv(training_data_file, delimiter=\" ::: \", names=[\"index\", \"movie_name\", \"genre\", \"description\"])\n",
    "validation_df = pd.read_csv(validation_data_file, delimiter=\" ::: \", names=[\"index\", \"movie_name\", \"genre\", \"description\"])\n",
    "test_df = pd.read_csv(test_data_file, delimiter=\" ::: \", names=[\"index\", \"movie_name\", \"description\"])\n"
   ]
  },
  {
   "cell_type": "code",
   "execution_count": 6,
   "id": "2e3797f7-f98b-49a9-acff-1b19e9cb8913",
   "metadata": {},
   "outputs": [],
   "source": [
    "combined_df = pd.concat([train_df, validation_df])"
   ]
  },
  {
   "cell_type": "code",
   "execution_count": 7,
   "id": "3d1c8e18-77b0-4bca-9d2a-f4b93301d489",
   "metadata": {},
   "outputs": [],
   "source": [
    "tfidf_vectorizer = TfidfVectorizer(max_features=5000, stop_words='english')\n",
    "X = tfidf_vectorizer.fit_transform(combined_df['description'])\n",
    "y = combined_df['genre']"
   ]
  },
  {
   "cell_type": "code",
   "execution_count": 8,
   "id": "671e23ea-468b-4fe8-8e7f-79ac22f124c0",
   "metadata": {},
   "outputs": [],
   "source": [
    "X_train, X_val, y_train, y_val = train_test_split(X, y, test_size=0.2, random_state=42)\n"
   ]
  },
  {
   "cell_type": "code",
   "execution_count": 9,
   "id": "ac14d660-af6f-4bb0-be95-4a160c3e066c",
   "metadata": {},
   "outputs": [],
   "source": [
    "classifier = SVC(kernel='linear')"
   ]
  },
  {
   "cell_type": "code",
   "execution_count": 13,
   "id": "a732af1a-c44c-40f3-99c9-d52beea132bd",
   "metadata": {},
   "outputs": [],
   "source": [
    "classifier.fit(X_train, y_train)\n",
    "X_test = tfidf_vectorizer.transform(test_df['description'])\n",
    "y_pred = classifier.predict(X_test)"
   ]
  },
  {
   "cell_type": "code",
   "execution_count": 14,
   "id": "ec132216-337c-4cf7-9061-11c0bb5da2ec",
   "metadata": {},
   "outputs": [],
   "source": [
    "test_df['predicted_genre'] = y_pred\n"
   ]
  },
  {
   "cell_type": "code",
   "execution_count": 18,
   "id": "70dbaeaf-2a21-4328-b362-dca0f84b7188",
   "metadata": {},
   "outputs": [
    {
     "name": "stdin",
     "output_type": "stream",
     "text": [
      "Enter a movie name (or 'quit' to exit):  Partners in Time (1946)\n"
     ]
    },
    {
     "name": "stdout",
     "output_type": "stream",
     "text": [
      "Predicted Genre for 'Partners in Time (1946)': comedy\n"
     ]
    },
    {
     "name": "stdin",
     "output_type": "stream",
     "text": [
      "Enter a movie name (or 'quit' to exit):  Manhole Children (2009)\n"
     ]
    },
    {
     "name": "stdout",
     "output_type": "stream",
     "text": [
      "Predicted Genre for 'Manhole Children (2009)': documentary\n"
     ]
    },
    {
     "name": "stdin",
     "output_type": "stream",
     "text": [
      "Enter a movie name (or 'quit' to exit):  \"Caught\" (2002)\n"
     ]
    },
    {
     "name": "stdout",
     "output_type": "stream",
     "text": [
      "Predicted Genre for '\"Caught\" (2002)': drama\n"
     ]
    },
    {
     "name": "stdin",
     "output_type": "stream",
     "text": [
      "Enter a movie name (or 'quit' to exit):  Perfect Pie (2002)\n"
     ]
    },
    {
     "name": "stdout",
     "output_type": "stream",
     "text": [
      "Predicted Genre for 'Perfect Pie (2002)': drama\n"
     ]
    },
    {
     "name": "stdin",
     "output_type": "stream",
     "text": [
      "Enter a movie name (or 'quit' to exit):  quit\n"
     ]
    }
   ],
   "source": [
    "while True:\n",
    "    movie_name = input(\"Enter a movie name (or 'quit' to exit): \")\n",
    "    if movie_name.lower() == 'quit':\n",
    "        break\n",
    "    else:\n",
    "        movie = test_df[test_df['movie_name'] == movie_name]\n",
    "        if not movie.empty:\n",
    "            predicted_genre = movie.iloc[0]['predicted_genre']\n",
    "            print(f\"Predicted Genre for '{movie_name}': {predicted_genre}\")\n",
    "        else:\n",
    "            print(f\"Movie '{movie_name}' not found in the test dataset.\")"
   ]
  },
  {
   "cell_type": "code",
   "execution_count": 22,
   "id": "f2cd8464-b523-43dc-92e7-125948e1939a",
   "metadata": {},
   "outputs": [
    {
     "name": "stdout",
     "output_type": "stream",
     "text": [
      "Length of validation_df['genre']: 3670\n",
      "Length of classifier.predict(X_val): 1156\n"
     ]
    }
   ],
   "source": [
    "print(f\"Length of validation_df['genre']: {len(validation_df['genre'])}\")\n",
    "print(f\"Length of classifier.predict(X_val): {len(classifier.predict(X_val))}\")\n"
   ]
  },
  {
   "cell_type": "code",
   "execution_count": null,
   "id": "04888e00-17a8-46b8-9457-2939828a5afe",
   "metadata": {},
   "outputs": [],
   "source": []
  }
 ],
 "metadata": {
  "kernelspec": {
   "display_name": "Python 3 (ipykernel)",
   "language": "python",
   "name": "python3"
  },
  "language_info": {
   "codemirror_mode": {
    "name": "ipython",
    "version": 3
   },
   "file_extension": ".py",
   "mimetype": "text/x-python",
   "name": "python",
   "nbconvert_exporter": "python",
   "pygments_lexer": "ipython3",
   "version": "3.12.4"
  }
 },
 "nbformat": 4,
 "nbformat_minor": 5
}
